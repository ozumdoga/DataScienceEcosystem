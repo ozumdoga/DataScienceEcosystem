{
 "cells": [
  {
   "cell_type": "markdown",
   "id": "75b9a744",
   "metadata": {},
   "source": [
    "# Data Science Tools and Ecosystem"
   ]
  },
  {
   "cell_type": "markdown",
   "id": "bf054375",
   "metadata": {},
   "source": [
    "In this notebook, Data Science Tools and Ecosystem are summarized."
   ]
  },
  {
   "cell_type": "markdown",
   "id": "36aa1f99",
   "metadata": {},
   "source": [
    "**Objectives:**\n",
    "- List popular languages for Data Science\n",
    "- List popular libraries for Data Science\n",
    "- List data tools\n",
    "- Evaluate arithmetic operations in Python"
   ]
  },
  {
   "cell_type": "markdown",
   "id": "d141e0c5",
   "metadata": {},
   "source": [
    "Some of the popular languages that Data Scientists use are:\n",
    "\n",
    "1-Python\n",
    "\n",
    "2-R \n",
    "\n",
    "3-SQL \n"
   ]
  },
  {
   "cell_type": "markdown",
   "id": "d1b52346",
   "metadata": {},
   "source": [
    "Some of the commonly used libraries used by Data Scientists include:\n",
    "\n",
    "1-NumPy\n",
    "\n",
    "2-TensorFlow\n",
    "\n",
    "3-Pandas"
   ]
  },
  {
   "cell_type": "markdown",
   "id": "8fdc7585-db72-4996-9f40-bbb83b159df6",
   "metadata": {},
   "source": [
    "## Data Science Tools\n",
    "\n",
    "| Data Science Tools|\n",
    "| -------------|\n",
    "| Spark|\n",
    "| Scikit Learn|\n",
    "| Matplotlib|\n"
   ]
  },
  {
   "cell_type": "markdown",
   "id": "3b1c630b-3c8a-45b5-8020-85fb2ead7af8",
   "metadata": {
    "tags": []
   },
   "source": [
    "### Below are a few examples of evaluating arithmetic expressions in Python\n"
   ]
  },
  {
   "cell_type": "code",
   "execution_count": 4,
   "id": "63358cd5-cbf2-4c9c-a417-2c75181227bb",
   "metadata": {},
   "outputs": [
    {
     "data": {
      "text/plain": [
       "17"
      ]
     },
     "execution_count": 4,
     "metadata": {},
     "output_type": "execute_result"
    }
   ],
   "source": [
    "# This a simple arithmetic expression to mutiply then add integers\n",
    "(3*4)+5"
   ]
  },
  {
   "cell_type": "code",
   "execution_count": 5,
   "id": "20aafb07",
   "metadata": {},
   "outputs": [
    {
     "data": {
      "text/plain": [
       "3.3333333333333335"
      ]
     },
     "execution_count": 5,
     "metadata": {},
     "output_type": "execute_result"
    }
   ],
   "source": [
    "# This will convert 200 minutes to hours by diving by 60\n",
    "\n",
    "200/60"
   ]
  },
  {
   "cell_type": "markdown",
   "id": "b1bc532a",
   "metadata": {},
   "source": [
    "## Author\n",
    "Özüm Doğa Aydın"
   ]
  },
  {
   "cell_type": "code",
   "execution_count": null,
   "id": "7c2a0026",
   "metadata": {},
   "outputs": [],
   "source": []
  }
 ],
 "metadata": {
  "kernelspec": {
   "display_name": "Python 3 (ipykernel)",
   "language": "python",
   "name": "python3"
  },
  "language_info": {
   "codemirror_mode": {
    "name": "ipython",
    "version": 3
   },
   "file_extension": ".py",
   "mimetype": "text/x-python",
   "name": "python",
   "nbconvert_exporter": "python",
   "pygments_lexer": "ipython3",
   "version": "3.11.4"
  }
 },
 "nbformat": 4,
 "nbformat_minor": 5
}
